{
  "cells": [
    {
      "cell_type": "markdown",
      "source": [
        "### Importing libraries"
      ],
      "metadata": {
        "id": "h3Mk4JEJpygK"
      }
    },
    {
      "cell_type": "code",
      "source": [
        "from keras.datasets import mnist\n",
        "import seaborn as sns\n",
        "import pandas as pd\n",
        "from keras.models import Sequential\n",
        "from keras.layers import Dense, Dropout, Conv2D, MaxPool2D\n",
        "from tensorflow.keras.utils import to_categorical as np_utils\n",
        "import numpy as np\n",
        "import matplotlib.pyplot as plt\n",
        "from sklearn.model_selection import train_test_split"
      ],
      "metadata": {
        "id": "HfVqMSrloqh0"
      },
      "execution_count": 1,
      "outputs": []
    },
    {
      "cell_type": "markdown",
      "source": [
        "###Loading and spliting the dataset into training and test"
      ],
      "metadata": {
        "id": "EfPQ-VL8p8JS"
      }
    },
    {
      "cell_type": "code",
      "source": [
        "# Loading and splitting the dataset into training and test\n",
        "(X_train, y_train), (X_test, y_test) = mnist.load_data()"
      ],
      "metadata": {
        "colab": {
          "base_uri": "https://localhost:8080/"
        },
        "id": "1sys-JCZy5Wz",
        "outputId": "da38869f-5aaf-45f1-d25d-52be912aeecc"
      },
      "execution_count": 3,
      "outputs": [
        {
          "output_type": "stream",
          "name": "stdout",
          "text": [
            "Downloading data from https://storage.googleapis.com/tensorflow/tf-keras-datasets/mnist.npz\n",
            "11490434/11490434 [==============================] - 1s 0us/step\n"
          ]
        }
      ]
    },
    {
      "cell_type": "code",
      "execution_count": 4,
      "metadata": {
        "id": "WLTQ1_QLhvPT"
      },
      "outputs": [],
      "source": [
        "# Split the training data into training and validation sets\n",
        "X_train, X_val, y_train, y_val = train_test_split(X_train, y_train, test_size=0.1, random_state=42)"
      ]
    },
    {
      "cell_type": "code",
      "execution_count": 5,
      "metadata": {
        "colab": {
          "base_uri": "https://localhost:8080/"
        },
        "id": "nwX-Yo7Mhzxa",
        "outputId": "df53a52f-bd58-48dd-dce6-5831f7df931f"
      },
      "outputs": [
        {
          "output_type": "stream",
          "name": "stdout",
          "text": [
            "X_train shape (54000, 28, 28)\n",
            "y_train shape (54000,)\n",
            "X_val shape (6000, 28, 28)\n",
            "y_val shape (6000,)\n",
            "X_test shape (10000, 28, 28)\n",
            "y_test shape (10000,)\n"
          ]
        }
      ],
      "source": [
        "# let's print the shape of the dataset\n",
        "print(\"X_train shape\", X_train.shape)\n",
        "print(\"y_train shape\", y_train.shape)\n",
        "print(\"X_val shape\", X_val.shape)\n",
        "print(\"y_val shape\", y_val.shape)\n",
        "print(\"X_test shape\", X_test.shape)\n",
        "print(\"y_test shape\", y_test.shape)"
      ]
    },
    {
      "cell_type": "markdown",
      "source": [
        "###Visualizing outcome label"
      ],
      "metadata": {
        "id": "F-UxETVXqECF"
      }
    },
    {
      "cell_type": "code",
      "execution_count": 6,
      "metadata": {
        "id": "gKuUrTxH4waP",
        "colab": {
          "base_uri": "https://localhost:8080/",
          "height": 434
        },
        "outputId": "a1dedc7a-685b-46f5-b27d-b27cdea05f3a"
      },
      "outputs": [
        {
          "output_type": "display_data",
          "data": {
            "text/plain": [
              "<Figure size 640x480 with 1 Axes>"
            ],
            "image/png": "[encoded data removed]"
          },
          "metadata": {}
        }
      ],
      "source": [
        "# Visualizing outcome label\n",
        "sns.set(style='white', context='notebook', palette='deep')\n",
        "g = sns.countplot(x=y_train)"
      ]
    },
    {
      "cell_type": "code",
      "source": [
        "Y_train_values=pd.DataFrame(y_train,columns=['label'])\n",
        "Y_train_values.value_counts()"
      ],
      "metadata": {
        "id": "RzIqrOGZpsBU",
        "colab": {
          "base_uri": "https://localhost:8080/"
        },
        "outputId": "54bc33b6-5d75-4f9f-b367-50a6dee26efa"
      },
      "execution_count": 7,
      "outputs": [
        {
          "output_type": "execute_result",
          "data": {
            "text/plain": [
              "label\n",
              "1        6088\n",
              "7        5632\n",
              "3        5542\n",
              "2        5386\n",
              "6        5338\n",
              "9        5317\n",
              "0        5299\n",
              "8        5266\n",
              "4        5262\n",
              "5        4870\n",
              "dtype: int64"
            ]
          },
          "metadata": {},
          "execution_count": 7
        }
      ]
    },
    {
      "cell_type": "markdown",
      "source": [
        "###Pre Processing the data"
      ],
      "metadata": {
        "id": "WUg_hlFRqXN7"
      }
    },
    {
      "cell_type": "code",
      "execution_count": 9,
      "metadata": {
        "colab": {
          "base_uri": "https://localhost:8080/"
        },
        "id": "SQWia4SeciPL",
        "outputId": "4dc2b67c-6df0-4b1f-f4a1-890dc9b03ff1"
      },
      "outputs": [
        {
          "output_type": "stream",
          "name": "stdout",
          "text": [
            "Shape before one-hot encoding:  (54000,)\n",
            "Shape after one-hot encoding:  (54000, 10)\n"
          ]
        }
      ],
      "source": [
        "# Flattening the images from the 28x28 pixels to 1D 784 pixels\n",
        "X_train = X_train.reshape(X_train.shape[0], 784)\n",
        "X_val = X_val.reshape(X_val.shape[0], 784)\n",
        "X_test = X_test.reshape(X_test.shape[0], 784)\n",
        "\n",
        "X_train = X_train.astype('float32')\n",
        "X_val = X_val.astype('float32')\n",
        "X_test = X_test.astype('float32')\n",
        "\n",
        "# normalizing the data to help with the training\n",
        "X_train /= 255\n",
        "X_val /= 255\n",
        "X_test /= 255\n",
        "\n",
        "# one-hot encoding using keras' numpy-related utilities\n",
        "n_classes = 10\n",
        "print(\"Shape before one-hot encoding: \", y_train.shape)\n",
        "Y_train = np_utils(y_train, n_classes)\n",
        "Y_val = np_utils(y_val, n_classes)\n",
        "Y_test = np_utils(y_test, n_classes)\n",
        "print(\"Shape after one-hot encoding: \", Y_train.shape)\n"
      ]
    },
    {
      "cell_type": "markdown",
      "source": [
        "\n",
        "\n",
        "###Implementing CNN"
      ],
      "metadata": {
        "id": "wM7x9Vh4qbG4"
      }
    },
    {
      "cell_type": "code",
      "source": [
        "\n",
        "# building a linear stack of layers with the sequential model\n",
        "model = Sequential()\n",
        "# hidden layer\n",
        "model.add(Dense(100, input_shape=(784,), activation='relu'))\n",
        "# output layer\n",
        "model.add(Dense(10, activation='softmax'))\n",
        "\n",
        "# looking at the model summary\n",
        "model.summary()\n",
        "# compiling the sequential model\n",
        "model.compile(loss='categorical_crossentropy', metrics=['accuracy'], optimizer='adam')\n",
        "# training the model for 10 epochs\n",
        "model.fit(X_train, Y_train, batch_size=128, epochs=10, validation_data=(X_test, Y_test))\n",
        "history = model.fit(X_train, Y_train, batch_size=128, epochs=10, validation_data=(X_test, Y_test))"
      ],
      "metadata": {
        "colab": {
          "base_uri": "https://localhost:8080/"
        },
        "id": "KqS9D9HLqRg1",
        "outputId": "9fe8c754-8f38-4ae4-ac56-22489812e812"
      },
      "execution_count": 10,
      "outputs": [
        {
          "output_type": "stream",
          "name": "stdout",
          "text": [
            "Model: \"sequential\"\n",
            "_________________________________________________________________\n",
            " Layer (type)                Output Shape              Param #   \n",
            "=================================================================\n",
            " dense (Dense)               (None, 100)               78500     \n",
            "                                                                 \n",
            " dense_1 (Dense)             (None, 10)                1010      \n",
            "                                                                 \n",
            "=================================================================\n",
            "Total params: 79510 (310.59 KB)\n",
            "Trainable params: 79510 (310.59 KB)\n",
            "Non-trainable params: 0 (0.00 Byte)\n",
            "_________________________________________________________________\n",
            "Epoch 1/10\n",
            "422/422 [==============================] - 3s 6ms/step - loss: 0.3915 - accuracy: 0.8915 - val_loss: 0.2091 - val_accuracy: 0.9394\n",
            "Epoch 2/10\n",
            "422/422 [==============================] - 3s 7ms/step - loss: 0.1782 - accuracy: 0.9496 - val_loss: 0.1492 - val_accuracy: 0.9562\n",
            "Epoch 3/10\n",
            "422/422 [==============================] - 2s 5ms/step - loss: 0.1326 - accuracy: 0.9623 - val_loss: 0.1184 - val_accuracy: 0.9650\n",
            "Epoch 4/10\n",
            "422/422 [==============================] - 2s 5ms/step - loss: 0.1076 - accuracy: 0.9686 - val_loss: 0.1076 - val_accuracy: 0.9684\n",
            "Epoch 5/10\n",
            "422/422 [==============================] - 2s 5ms/step - loss: 0.0886 - accuracy: 0.9743 - val_loss: 0.1001 - val_accuracy: 0.9699\n",
            "Epoch 6/10\n",
            "422/422 [==============================] - 2s 4ms/step - loss: 0.0745 - accuracy: 0.9781 - val_loss: 0.0941 - val_accuracy: 0.9710\n",
            "Epoch 7/10\n",
            "422/422 [==============================] - 2s 5ms/step - loss: 0.0642 - accuracy: 0.9810 - val_loss: 0.0900 - val_accuracy: 0.9737\n",
            "Epoch 8/10\n",
            "422/422 [==============================] - 3s 7ms/step - loss: 0.0550 - accuracy: 0.9833 - val_loss: 0.0886 - val_accuracy: 0.9718\n",
            "Epoch 9/10\n",
            "422/422 [==============================] - 2s 4ms/step - loss: 0.0473 - accuracy: 0.9865 - val_loss: 0.0788 - val_accuracy: 0.9758\n",
            "Epoch 10/10\n",
            "422/422 [==============================] - 2s 4ms/step - loss: 0.0417 - accuracy: 0.9881 - val_loss: 0.0805 - val_accuracy: 0.9753\n",
            "Epoch 1/10\n",
            "422/422 [==============================] - 2s 5ms/step - loss: 0.0359 - accuracy: 0.9905 - val_loss: 0.0756 - val_accuracy: 0.9752\n",
            "Epoch 2/10\n",
            "422/422 [==============================] - 2s 5ms/step - loss: 0.0317 - accuracy: 0.9915 - val_loss: 0.0782 - val_accuracy: 0.9764\n",
            "Epoch 3/10\n",
            "422/422 [==============================] - 2s 5ms/step - loss: 0.0276 - accuracy: 0.9926 - val_loss: 0.0755 - val_accuracy: 0.9764\n",
            "Epoch 4/10\n",
            "422/422 [==============================] - 2s 5ms/step - loss: 0.0235 - accuracy: 0.9940 - val_loss: 0.0744 - val_accuracy: 0.9775\n",
            "Epoch 5/10\n",
            "422/422 [==============================] - 2s 6ms/step - loss: 0.0215 - accuracy: 0.9943 - val_loss: 0.0754 - val_accuracy: 0.9770\n",
            "Epoch 6/10\n",
            "422/422 [==============================] - 2s 6ms/step - loss: 0.0189 - accuracy: 0.9954 - val_loss: 0.0761 - val_accuracy: 0.9768\n",
            "Epoch 7/10\n",
            "422/422 [==============================] - 2s 4ms/step - loss: 0.0159 - accuracy: 0.9965 - val_loss: 0.0760 - val_accuracy: 0.9768\n",
            "Epoch 8/10\n",
            "422/422 [==============================] - 2s 5ms/step - loss: 0.0138 - accuracy: 0.9971 - val_loss: 0.0789 - val_accuracy: 0.9776\n",
            "Epoch 9/10\n",
            "422/422 [==============================] - 2s 5ms/step - loss: 0.0122 - accuracy: 0.9978 - val_loss: 0.0792 - val_accuracy: 0.9768\n",
            "Epoch 10/10\n",
            "422/422 [==============================] - 2s 5ms/step - loss: 0.0106 - accuracy: 0.9980 - val_loss: 0.0815 - val_accuracy: 0.9764\n"
          ]
        }
      ]
    },
    {
      "cell_type": "code",
      "execution_count": 11,
      "metadata": {
        "colab": {
          "base_uri": "https://localhost:8080/"
        },
        "id": "sdL2UCFJ5VrF",
        "outputId": "affb4448-57d2-4ff8-8afc-77115fa8a5fe"
      },
      "outputs": [
        {
          "output_type": "stream",
          "name": "stdout",
          "text": [
            "Epoch 1/10\n",
            "422/422 [==============================] - 3s 6ms/step - loss: 0.0098 - accuracy: 0.9981 - val_loss: 0.0759 - val_accuracy: 0.9803\n",
            "Epoch 2/10\n",
            "422/422 [==============================] - 2s 5ms/step - loss: 0.0087 - accuracy: 0.9984 - val_loss: 0.0755 - val_accuracy: 0.9800\n",
            "Epoch 3/10\n",
            "422/422 [==============================] - 2s 4ms/step - loss: 0.0069 - accuracy: 0.9989 - val_loss: 0.0764 - val_accuracy: 0.9812\n",
            "Epoch 4/10\n",
            "422/422 [==============================] - 2s 4ms/step - loss: 0.0060 - accuracy: 0.9991 - val_loss: 0.0801 - val_accuracy: 0.9800\n",
            "Epoch 5/10\n",
            "422/422 [==============================] - 2s 4ms/step - loss: 0.0067 - accuracy: 0.9986 - val_loss: 0.0843 - val_accuracy: 0.9783\n",
            "Epoch 6/10\n",
            "422/422 [==============================] - 2s 4ms/step - loss: 0.0060 - accuracy: 0.9990 - val_loss: 0.0808 - val_accuracy: 0.9807\n",
            "Epoch 7/10\n",
            "422/422 [==============================] - 2s 5ms/step - loss: 0.0046 - accuracy: 0.9994 - val_loss: 0.0830 - val_accuracy: 0.9812\n",
            "Epoch 8/10\n",
            "422/422 [==============================] - 3s 6ms/step - loss: 0.0034 - accuracy: 0.9997 - val_loss: 0.0799 - val_accuracy: 0.9812\n",
            "Epoch 9/10\n",
            "422/422 [==============================] - 2s 4ms/step - loss: 0.0048 - accuracy: 0.9989 - val_loss: 0.0767 - val_accuracy: 0.9803\n",
            "Epoch 10/10\n",
            "422/422 [==============================] - 2s 4ms/step - loss: 0.0048 - accuracy: 0.9991 - val_loss: 0.0855 - val_accuracy: 0.9788\n"
          ]
        }
      ],
      "source": [
        "# training the model for 10 epochs with validation data\n",
        "history = model.fit(X_train, Y_train, batch_size=128, epochs=10, validation_data=(X_val, Y_val))\n"
      ]
    },
    {
      "cell_type": "code",
      "execution_count": 12,
      "metadata": {
        "colab": {
          "base_uri": "https://localhost:8080/"
        },
        "id": "mZiAoFH60uqk",
        "outputId": "e8b50d59-b6d4-4eb5-eb1b-d4e6f622dfac"
      },
      "outputs": [
        {
          "output_type": "stream",
          "name": "stdout",
          "text": [
            "313/313 [==============================] - 1s 2ms/step\n",
            "7\n"
          ]
        }
      ],
      "source": [
        "predictions = model.predict(X_test)\n",
        "print(np.argmax(np.round(predictions[0])))"
      ]
    },
    {
      "cell_type": "markdown",
      "source": [
        "### Testing the model"
      ],
      "metadata": {
        "id": "0JfBdD4SqjaX"
      }
    },
    {
      "cell_type": "code",
      "execution_count": 13,
      "metadata": {
        "colab": {
          "base_uri": "https://localhost:8080/",
          "height": 434
        },
        "id": "TyAsVQxG06iQ",
        "outputId": "14c4af43-5182-4381-a3ff-80bba45d5dbf"
      },
      "outputs": [
        {
          "output_type": "display_data",
          "data": {
            "text/plain": [
              "<Figure size 640x480 with 1 Axes>"
            ],
            "image/png": "[encoded data removed]"
          },
          "metadata": {}
        }
      ],
      "source": [
        "plt.imshow(X_test[0].reshape(28, 28), cmap=plt.cm.binary)\n",
        "plt.show()"
      ]
    },
    {
      "cell_type": "code",
      "execution_count": 14,
      "metadata": {
        "colab": {
          "base_uri": "https://localhost:8080/",
          "height": 434
        },
        "id": "hTQs--1P5CvF",
        "outputId": "f749ff41-1c82-43f7-dbd0-275adffaede7"
      },
      "outputs": [
        {
          "output_type": "display_data",
          "data": {
            "text/plain": [
              "<Figure size 640x480 with 2 Axes>"
            ],
            "image/png": "[encoded data removed]"
          },
          "metadata": {}
        }
      ],
      "source": [
        "# Plot the loss and accuracy curves for training and validation\n",
        "fig, ax = plt.subplots(2,1)\n",
        "ax[0].plot(history.history['loss'], color='b', label=\"Training loss\")\n",
        "ax[0].plot(history.history['val_loss'], color='r', label=\"Validation loss\", axes=ax[0])\n",
        "legend = ax[0].legend(loc='best', shadow=True)\n",
        "\n",
        "ax[1].plot(history.history['accuracy'], color='b', label=\"Training accuracy\")\n",
        "ax[1].plot(history.history['val_accuracy'], color='r', label=\"Validation accuracy\")\n",
        "legend = ax[1].legend(loc='best', shadow=True)"
      ]
    },
    {
      "cell_type": "code",
      "source": [
        "# Evaluate the model on the test set\n",
        "test_loss, test_accuracy = model.evaluate(X_test, Y_test)\n",
        "print(\"Test accuracy:\", test_accuracy)"
      ],
      "metadata": {
        "id": "zVkKmR52q2F-",
        "colab": {
          "base_uri": "https://localhost:8080/"
        },
        "outputId": "2fff9102-3edb-478b-b089-537f53087e38"
      },
      "execution_count": 15,
      "outputs": [
        {
          "output_type": "stream",
          "name": "stdout",
          "text": [
            "313/313 [==============================] - 1s 2ms/step - loss: 0.0994 - accuracy: 0.9756\n",
            "Test accuracy: 0.975600004196167\n"
          ]
        }
      ]
    }
  ],
  "metadata": {
    "colab": {
      "provenance": []
    },
    "kernelspec": {
      "display_name": "Python 3",
      "name": "python3"
    },
    "language_info": {
      "name": "python"
    }
  },
  "nbformat": 4,
  "nbformat_minor": 0
}